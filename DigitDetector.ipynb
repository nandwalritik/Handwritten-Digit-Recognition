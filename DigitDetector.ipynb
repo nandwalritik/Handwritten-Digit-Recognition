{
 "cells": [
  {
   "cell_type": "code",
   "execution_count": 1,
   "metadata": {},
   "outputs": [],
   "source": [
    "import tensorflow\n",
    "from tensorflow.keras.datasets import mnist\n",
    "from tensorflow.keras.models import Sequential\n",
    "from tensorflow.keras.layers import Dense,Dropout,Flatten\n",
    "from tensorflow.keras.layers import Conv2D,MaxPooling2D"
   ]
  },
  {
   "cell_type": "code",
   "execution_count": 2,
   "metadata": {},
   "outputs": [],
   "source": [
    "data = mnist.load_data()"
   ]
  },
  {
   "cell_type": "code",
   "execution_count": 3,
   "metadata": {},
   "outputs": [],
   "source": [
    "(x_train,y_train),(x_test,y_test) = data"
   ]
  },
  {
   "cell_type": "code",
   "execution_count": 4,
   "metadata": {},
   "outputs": [
    {
     "name": "stdout",
     "output_type": "stream",
     "text": [
      "(60000, 28, 28) (60000,)\n"
     ]
    }
   ],
   "source": [
    "print(x_train.shape,y_train.shape)"
   ]
  },
  {
   "cell_type": "code",
   "execution_count": 5,
   "metadata": {},
   "outputs": [
    {
     "data": {
      "text/plain": [
       "(28, 28)"
      ]
     },
     "execution_count": 5,
     "metadata": {},
     "output_type": "execute_result"
    }
   ],
   "source": [
    "x_train[0].shape"
   ]
  },
  {
   "cell_type": "code",
   "execution_count": 6,
   "metadata": {},
   "outputs": [],
   "source": [
    "x_train = x_train.reshape(x_train.shape[0],28,28,1)\n",
    "x_test  = x_test.reshape(x_test.shape[0],28,28,1)\n",
    "input_shape = (28,28,1)\n",
    "\n",
    "batch_size = 128\n",
    "num_classes = 10\n",
    "epochs = 10\n",
    "\n",
    "# converting class vectors to binary class matrices\n",
    "y_train = tensorflow.keras.utils.to_categorical(y_train,num_classes)\n",
    "y_test = tensorflow.keras.utils.to_categorical(y_test,num_classes)\n",
    "\n",
    "x_train = x_train.astype('float32')\n",
    "x_test = x_test.astype('float32')\n",
    "x_train/=255\n",
    "x_test/=255\n",
    "\n",
    "\n",
    "model = Sequential()\n",
    "model.add(Conv2D(32,kernel_size=(3,3),activation='relu',input_shape=input_shape))\n",
    "model.add(Conv2D(64,(3,3),activation='relu'))\n",
    "model.add(MaxPooling2D(pool_size=(2,2)))\n",
    "model.add(Dropout(0.25))\n",
    "model.add(Flatten())\n",
    "model.add(Dense(256,activation='relu'))\n",
    "model.add(Dropout(0.5))\n",
    "model.add(Dense(num_classes,activation='softmax'))\n",
    "\n",
    "model.compile(loss=tensorflow.keras.losses.categorical_crossentropy,optimizer=tensorflow.keras.optimizers.Adadelta(),metrics=['accuracy'])"
   ]
  },
  {
   "cell_type": "code",
   "execution_count": 7,
   "metadata": {},
   "outputs": [
    {
     "name": "stdout",
     "output_type": "stream",
     "text": [
      "Epoch 1/10\n",
      "469/469 [==============================] - 44s 93ms/step - loss: 2.2825 - accuracy: 0.1478 - val_loss: 2.2416 - val_accuracy: 0.3148\n",
      "Epoch 2/10\n",
      "469/469 [==============================] - 48s 102ms/step - loss: 2.2184 - accuracy: 0.2783 - val_loss: 2.1654 - val_accuracy: 0.4903\n",
      "Epoch 3/10\n",
      "469/469 [==============================] - 49s 105ms/step - loss: 2.1371 - accuracy: 0.4083 - val_loss: 2.0621 - val_accuracy: 0.5947\n",
      "Epoch 4/10\n",
      "469/469 [==============================] - 51s 109ms/step - loss: 2.0275 - accuracy: 0.4991 - val_loss: 1.9196 - val_accuracy: 0.6728\n",
      "Epoch 5/10\n",
      "469/469 [==============================] - 50s 108ms/step - loss: 1.8775 - accuracy: 0.5650 - val_loss: 1.7321 - val_accuracy: 0.7211\n",
      "Epoch 6/10\n",
      "469/469 [==============================] - 52s 111ms/step - loss: 1.6897 - accuracy: 0.6132 - val_loss: 1.5056 - val_accuracy: 0.7521\n",
      "Epoch 7/10\n",
      "469/469 [==============================] - 48s 101ms/step - loss: 1.4868 - accuracy: 0.6406 - val_loss: 1.2725 - val_accuracy: 0.7773\n",
      "Epoch 8/10\n",
      "469/469 [==============================] - 47s 100ms/step - loss: 1.2936 - accuracy: 0.6733 - val_loss: 1.0683 - val_accuracy: 0.8009\n",
      "Epoch 9/10\n",
      "469/469 [==============================] - 46s 98ms/step - loss: 1.1354 - accuracy: 0.6970 - val_loss: 0.9082 - val_accuracy: 0.8162\n",
      "Epoch 10/10\n",
      "469/469 [==============================] - 46s 98ms/step - loss: 1.0145 - accuracy: 0.7167 - val_loss: 0.7903 - val_accuracy: 0.8292\n",
      "Training Process Completed\n",
      "Saving the model as mnist.h5\n"
     ]
    }
   ],
   "source": [
    "hist = model.fit(x_train,y_train,batch_size=batch_size,epochs=epochs,verbose=1,validation_data=(x_test,y_test))\n",
    "print(\"Training Process Completed\")\n",
    "\n",
    "model.save('mnist.h5')\n",
    "print(\"Saving the model as mnist.h5\")"
   ]
  },
  {
   "cell_type": "code",
   "execution_count": 8,
   "metadata": {},
   "outputs": [
    {
     "name": "stdout",
     "output_type": "stream",
     "text": [
      "Test loss: 0.7903426289558411\n",
      "Test accuracy 0.829200029373169\n"
     ]
    }
   ],
   "source": [
    "score = model.evaluate(x_test,y_test,verbose=0)\n",
    "print('Test loss:',score[0])\n",
    "print('Test accuracy',score[1])"
   ]
  }
 ],
 "metadata": {
  "kernelspec": {
   "display_name": "Python 3",
   "language": "python",
   "name": "python3"
  },
  "language_info": {
   "codemirror_mode": {
    "name": "ipython",
    "version": 3
   },
   "file_extension": ".py",
   "mimetype": "text/x-python",
   "name": "python",
   "nbconvert_exporter": "python",
   "pygments_lexer": "ipython3",
   "version": "3.8.5"
  }
 },
 "nbformat": 4,
 "nbformat_minor": 4
}
