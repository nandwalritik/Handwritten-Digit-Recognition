{
 "cells": [
  {
   "cell_type": "code",
   "execution_count": 9,
   "metadata": {},
   "outputs": [],
   "source": [
    "import tensorflow\n",
    "from tensorflow.keras.datasets import mnist\n",
    "from tensorflow.keras.models import Sequential\n",
    "from tensorflow.keras.layers import Dense,Dropout,Flatten\n",
    "from tensorflow.keras.layers import Conv2D,MaxPooling2D\n",
    "from sklearn.utils import shuffle\n",
    "from tensorflow.keras.optimizers import RMSprop\n",
    "from tensorflow.keras.callbacks import ReduceLROnPlateau\n",
    "import matplotlib.pyplot as plt\n",
    "import numpy as np"
   ]
  },
  {
   "cell_type": "code",
   "execution_count": 10,
   "metadata": {},
   "outputs": [],
   "source": [
    "data = mnist.load_data()"
   ]
  },
  {
   "cell_type": "code",
   "execution_count": 11,
   "metadata": {},
   "outputs": [],
   "source": [
    "(x_train,y_train),(x_test,y_test) = data\n",
    "# x_train,y_train = shuffle(x_train,y_train)"
   ]
  },
  {
   "cell_type": "code",
   "execution_count": 12,
   "metadata": {},
   "outputs": [
    {
     "name": "stdout",
     "output_type": "stream",
     "text": [
      "(60000, 28, 28) (60000,)\n"
     ]
    }
   ],
   "source": [
    "print(x_train.shape,y_train.shape)"
   ]
  },
  {
   "cell_type": "code",
   "execution_count": 13,
   "metadata": {},
   "outputs": [
    {
     "name": "stdout",
     "output_type": "stream",
     "text": [
      "x_train shape (60000, 28, 28, 1)\n",
      "60000 train samples\n",
      "10000 test samples\n"
     ]
    }
   ],
   "source": [
    "x_train = x_train.reshape(x_train.shape[0],28,28,1)\n",
    "x_test  = x_test.reshape(x_test.shape[0],28,28,1)\n",
    "input_shape = (28,28,1)\n",
    "\n",
    "batch_size = 86\n",
    "num_classes = 10\n",
    "epochs = 10\n",
    "\n",
    "# converting class vectors to binary class matrices\n",
    "y_train = tensorflow.keras.utils.to_categorical(y_train,num_classes)\n",
    "y_test = tensorflow.keras.utils.to_categorical(y_test,num_classes)\n",
    "\n",
    "x_train = x_train.astype('float32')\n",
    "x_test = x_test.astype('float32')\n",
    "x_train/=255\n",
    "x_test/=255\n",
    "\n",
    "print('x_train shape',x_train.shape)\n",
    "print(x_train.shape[0],'train samples')\n",
    "print(x_test.shape[0],'test samples')"
   ]
  },
  {
   "cell_type": "code",
   "execution_count": 14,
   "metadata": {},
   "outputs": [],
   "source": [
    "model = Sequential()\n",
    "model.add(Conv2D(filters=32,kernel_size=(5,5),padding='same',activation='relu',input_shape=input_shape))\n",
    "model.add(Conv2D(filters=32,kernel_size=(5,5),padding='same',activation='relu'))\n",
    "model.add(MaxPooling2D(pool_size=(2,2)))\n",
    "model.add(Dropout(0.25))\n",
    "model.add(Conv2D(filters = 64, kernel_size = (3,3),padding = 'Same',activation ='relu'))\n",
    "model.add(Conv2D(filters = 64, kernel_size = (3,3),padding = 'Same',activation ='relu'))\n",
    "model.add(MaxPooling2D(pool_size=(2,2), strides=(2,2)))\n",
    "model.add(Dropout(0.25))\n",
    "model.add(Flatten())\n",
    "model.add(Dense(256,activation='relu'))\n",
    "model.add(Dropout(0.5))\n",
    "model.add(Dense(num_classes,activation='softmax'))\n",
    "\n",
    "\n",
    "#model.compile(loss=tensorflow.keras.losses.categorical_crossentropy,optimizer=tensorflow.keras.optimizers.Adadelta(),metrics=['accuracy'])\n",
    "optimizer = RMSprop(lr=0.001,rho=0.9,epsilon=1e-08,decay=0.0)\n",
    "model.compile(optimizer=optimizer,loss=\"categorical_crossentropy\",metrics=[\"accuracy\"])\n",
    "\n",
    "# setting learning rate annealer\n",
    "learning_rate_reduction = ReduceLROnPlateau(monitor='val_acc',patience=3,verbose=1,factor=0.5,min_lr=0.00001)"
   ]
  },
  {
   "cell_type": "code",
   "execution_count": 15,
   "metadata": {},
   "outputs": [
    {
     "name": "stdout",
     "output_type": "stream",
     "text": [
      "Epoch 1/10\n",
      "698/698 [==============================] - 74s 107ms/step - loss: 0.2292 - accuracy: 0.9288 - val_loss: 0.0477 - val_accuracy: 0.9855\n",
      "Epoch 2/10\n",
      "698/698 [==============================] - 75s 108ms/step - loss: 0.0829 - accuracy: 0.9761 - val_loss: 0.0321 - val_accuracy: 0.9892\n",
      "Epoch 3/10\n",
      "698/698 [==============================] - 74s 105ms/step - loss: 0.0638 - accuracy: 0.9812 - val_loss: 0.0331 - val_accuracy: 0.9884\n",
      "Epoch 4/10\n",
      "698/698 [==============================] - 78s 112ms/step - loss: 0.0571 - accuracy: 0.9841 - val_loss: 0.0323 - val_accuracy: 0.9896\n",
      "Epoch 5/10\n",
      "698/698 [==============================] - 74s 106ms/step - loss: 0.0584 - accuracy: 0.9842 - val_loss: 0.0293 - val_accuracy: 0.9904\n",
      "Epoch 6/10\n",
      "698/698 [==============================] - 81s 115ms/step - loss: 0.0637 - accuracy: 0.9842 - val_loss: 0.0442 - val_accuracy: 0.9874\n",
      "Epoch 7/10\n",
      "698/698 [==============================] - 87s 125ms/step - loss: 0.0683 - accuracy: 0.9832 - val_loss: 0.0345 - val_accuracy: 0.9916\n",
      "Epoch 8/10\n",
      "698/698 [==============================] - 81s 116ms/step - loss: 0.0824 - accuracy: 0.9812 - val_loss: 0.0341 - val_accuracy: 0.9920\n",
      "Epoch 9/10\n",
      "698/698 [==============================] - 79s 114ms/step - loss: 0.0860 - accuracy: 0.9816 - val_loss: 0.0418 - val_accuracy: 0.9909\n",
      "Epoch 10/10\n",
      "698/698 [==============================] - 79s 113ms/step - loss: 0.1037 - accuracy: 0.9798 - val_loss: 0.0402 - val_accuracy: 0.9907\n",
      "Training Process Completed\n",
      "Saving the model as mnist.h5\n"
     ]
    }
   ],
   "source": [
    "hist = model.fit(x_train,y_train,batch_size=batch_size,epochs=epochs,verbose=1,validation_data=(x_test,y_test))\n",
    "print(\"Training Process Completed\")\n",
    "\n",
    "model.save('mnist.h5')\n",
    "print(\"Saving the model as mnist.h5\")"
   ]
  },
  {
   "cell_type": "code",
   "execution_count": 16,
   "metadata": {},
   "outputs": [
    {
     "name": "stdout",
     "output_type": "stream",
     "text": [
      "Test loss: 0.04016806185245514\n",
      "Test accuracy 0.9907000064849854\n"
     ]
    }
   ],
   "source": [
    "score = model.evaluate(x_test,y_test,verbose=0)\n",
    "print('Test loss:',score[0])\n",
    "print('Test accuracy',score[1])"
   ]
  }
 ],
 "metadata": {
  "kernelspec": {
   "display_name": "Python 3",
   "language": "python",
   "name": "python3"
  },
  "language_info": {
   "codemirror_mode": {
    "name": "ipython",
    "version": 3
   },
   "file_extension": ".py",
   "mimetype": "text/x-python",
   "name": "python",
   "nbconvert_exporter": "python",
   "pygments_lexer": "ipython3",
   "version": "3.8.5"
  }
 },
 "nbformat": 4,
 "nbformat_minor": 4
}
